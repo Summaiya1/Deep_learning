{
 "cells": [
  {
   "cell_type": "code",
   "execution_count": 1,
   "metadata": {},
   "outputs": [],
   "source": [
    "import numpy\n",
    "import pandas\n",
    "from tensorflow.keras.models import Sequential\n",
    "from tensorflow.keras.layers import Dense\n",
    "from tensorflow.keras.utils import to_categorical\n",
    "from tensorflow.keras import models\n",
    "from tensorflow.keras import layers\n",
    "from tensorflow.keras.optimizers import Adam"
   ]
  },
  {
   "cell_type": "code",
   "execution_count": 2,
   "metadata": {},
   "outputs": [],
   "source": [
    "from sklearn.preprocessing import LabelEncoder"
   ]
  },
  {
   "cell_type": "code",
   "execution_count": 3,
   "metadata": {},
   "outputs": [],
   "source": [
    "dataframe = pandas.read_csv(\"iris.csv\", header=None)"
   ]
  },
  {
   "cell_type": "code",
   "execution_count": 4,
   "metadata": {},
   "outputs": [],
   "source": [
    "dataframe = dataframe.sample(frac=1) # frac =1 i.e 100% data ko shuffle"
   ]
  },
  {
   "cell_type": "code",
   "execution_count": 5,
   "metadata": {},
   "outputs": [],
   "source": [
    "dataset = dataframe.values"
   ]
  },
  {
   "cell_type": "code",
   "execution_count": 6,
   "metadata": {},
   "outputs": [
    {
     "data": {
      "text/plain": [
       "150"
      ]
     },
     "execution_count": 6,
     "metadata": {},
     "output_type": "execute_result"
    }
   ],
   "source": [
    "len(dataset)"
   ]
  },
  {
   "cell_type": "code",
   "execution_count": 7,
   "metadata": {},
   "outputs": [],
   "source": [
    "test_data_temp=dataset[:90]\n",
    "train_data_temp=dataset[90:]"
   ]
  },
  {
   "cell_type": "code",
   "execution_count": 8,
   "metadata": {},
   "outputs": [
    {
     "data": {
      "text/plain": [
       "90"
      ]
     },
     "execution_count": 8,
     "metadata": {},
     "output_type": "execute_result"
    }
   ],
   "source": [
    "len(test_data_temp)"
   ]
  },
  {
   "cell_type": "code",
   "execution_count": 9,
   "metadata": {},
   "outputs": [],
   "source": [
    "test_data = test_data_temp[:,0:4].astype(float)\n",
    "test_labels = test_data_temp[:,4]"
   ]
  },
  {
   "cell_type": "code",
   "execution_count": 10,
   "metadata": {},
   "outputs": [],
   "source": [
    "train_data = train_data_temp[:,0:4].astype(float)\n",
    "train_labels = train_data_temp[:,4]"
   ]
  },
  {
   "cell_type": "code",
   "execution_count": 11,
   "metadata": {},
   "outputs": [],
   "source": [
    "# first encoding the strings consistently to integers using the scikit-learn class LabelEncoder.\n",
    "#Then convert the vector of integers to a one hot encoding using the Keras function to_categorical()."
   ]
  },
  {
   "cell_type": "code",
   "execution_count": 12,
   "metadata": {},
   "outputs": [],
   "source": [
    "# # encode class values as integers\n",
    "encoder = LabelEncoder()\n",
    "encoded_train_labels = encoder.fit_transform(train_labels)\n",
    "encoded_test_labels = encoder.fit_transform(test_labels)\n"
   ]
  },
  {
   "cell_type": "code",
   "execution_count": 13,
   "metadata": {},
   "outputs": [],
   "source": [
    "test_labels_hot_encoded=to_categorical(encoded_test_labels)\n",
    "train_labels_hot_encoded=to_categorical(encoded_train_labels)"
   ]
  },
  {
   "cell_type": "code",
   "execution_count": 14,
   "metadata": {},
   "outputs": [],
   "source": [
    "model = models.Sequential()\n",
    "model.add(layers.Dense(16, activation='relu', input_shape=(4,)))\n",
    "model.add(layers.Dense(8, activation='relu'))\n",
    "model.add(layers.Dense(3, activation='softmax'))\n"
   ]
  },
  {
   "cell_type": "code",
   "execution_count": 16,
   "metadata": {},
   "outputs": [],
   "source": [
    "model.compile(optimizer=Adam(lr=0.04),loss='categorical_crossentropy',metrics=['accuracy'])"
   ]
  },
  {
   "cell_type": "code",
   "execution_count": 17,
   "metadata": {},
   "outputs": [
    {
     "name": "stdout",
     "output_type": "stream",
     "text": [
      "Train on 60 samples\n",
      "Epoch 1/100\n",
      "60/60 [==============================] - 3s 57ms/sample - loss: 1.3648 - accuracy: 0.3333\n",
      "Epoch 2/100\n",
      "60/60 [==============================] - 0s 521us/sample - loss: 1.0810 - accuracy: 0.3833\n",
      "Epoch 3/100\n",
      "60/60 [==============================] - 0s 260us/sample - loss: 1.0528 - accuracy: 0.4167\n",
      "Epoch 4/100\n",
      "60/60 [==============================] - 0s 521us/sample - loss: 1.0429 - accuracy: 0.4167\n",
      "Epoch 5/100\n",
      "60/60 [==============================] - 0s 260us/sample - loss: 0.9697 - accuracy: 0.4167\n",
      "Epoch 6/100\n",
      "60/60 [==============================] - 0s 260us/sample - loss: 0.8609 - accuracy: 0.5500\n",
      "Epoch 7/100\n",
      "60/60 [==============================] - 0s 260us/sample - loss: 0.7695 - accuracy: 0.5833\n",
      "Epoch 8/100\n",
      "60/60 [==============================] - 0s 260us/sample - loss: 0.6637 - accuracy: 0.5833\n",
      "Epoch 9/100\n",
      "60/60 [==============================] - 0s 260us/sample - loss: 0.5970 - accuracy: 0.6667\n",
      "Epoch 10/100\n",
      "60/60 [==============================] - 0s 260us/sample - loss: 0.5624 - accuracy: 0.6667\n",
      "Epoch 11/100\n",
      "60/60 [==============================] - 0s 260us/sample - loss: 0.5331 - accuracy: 0.6667\n",
      "Epoch 12/100\n",
      "60/60 [==============================] - 0s 521us/sample - loss: 0.5315 - accuracy: 0.6667\n",
      "Epoch 13/100\n",
      "60/60 [==============================] - 0s 260us/sample - loss: 0.5209 - accuracy: 0.6667\n",
      "Epoch 14/100\n",
      "60/60 [==============================] - ETA: 0s - loss: 0.5640 - accuracy: 0.56 - 0s 260us/sample - loss: 0.5171 - accuracy: 0.6667\n",
      "Epoch 15/100\n",
      "60/60 [==============================] - 0s 260us/sample - loss: 0.5056 - accuracy: 0.6667\n",
      "Epoch 16/100\n",
      "60/60 [==============================] - 0s 260us/sample - loss: 0.4979 - accuracy: 0.6667\n",
      "Epoch 17/100\n",
      "60/60 [==============================] - 0s 521us/sample - loss: 0.4900 - accuracy: 0.6667\n",
      "Epoch 18/100\n",
      "60/60 [==============================] - 0s 260us/sample - loss: 0.4879 - accuracy: 0.6667\n",
      "Epoch 19/100\n",
      "60/60 [==============================] - 0s 260us/sample - loss: 0.4727 - accuracy: 0.6667\n",
      "Epoch 20/100\n",
      "60/60 [==============================] - 0s 260us/sample - loss: 0.4615 - accuracy: 0.6667\n",
      "Epoch 21/100\n",
      "60/60 [==============================] - 0s 260us/sample - loss: 0.4491 - accuracy: 0.7167\n",
      "Epoch 22/100\n",
      "60/60 [==============================] - 0s 260us/sample - loss: 0.4349 - accuracy: 0.7167\n",
      "Epoch 23/100\n",
      "60/60 [==============================] - 0s 260us/sample - loss: 0.4224 - accuracy: 0.7167\n",
      "Epoch 24/100\n",
      "60/60 [==============================] - 0s 260us/sample - loss: 0.4003 - accuracy: 0.7167\n",
      "Epoch 25/100\n",
      "60/60 [==============================] - 0s 260us/sample - loss: 0.3789 - accuracy: 0.8667\n",
      "Epoch 26/100\n",
      "60/60 [==============================] - 0s 260us/sample - loss: 0.3584 - accuracy: 0.9167\n",
      "Epoch 27/100\n",
      "60/60 [==============================] - 0s 260us/sample - loss: 0.3431 - accuracy: 0.8833\n",
      "Epoch 28/100\n",
      "60/60 [==============================] - 0s 260us/sample - loss: 0.3146 - accuracy: 0.9000\n",
      "Epoch 29/100\n",
      "60/60 [==============================] - 0s 260us/sample - loss: 0.2949 - accuracy: 0.9333\n",
      "Epoch 30/100\n",
      "60/60 [==============================] - 0s 260us/sample - loss: 0.2949 - accuracy: 0.9500\n",
      "Epoch 31/100\n",
      "60/60 [==============================] - 0s 260us/sample - loss: 0.2804 - accuracy: 0.9000\n",
      "Epoch 32/100\n",
      "60/60 [==============================] - 0s 260us/sample - loss: 0.2445 - accuracy: 0.9500\n",
      "Epoch 33/100\n",
      "60/60 [==============================] - 0s 260us/sample - loss: 0.2407 - accuracy: 0.9667\n",
      "Epoch 34/100\n",
      "60/60 [==============================] - 0s 260us/sample - loss: 0.2133 - accuracy: 0.9500\n",
      "Epoch 35/100\n",
      "60/60 [==============================] - 0s 260us/sample - loss: 0.2083 - accuracy: 0.9500\n",
      "Epoch 36/100\n",
      "60/60 [==============================] - 0s 260us/sample - loss: 0.1929 - accuracy: 0.9667\n",
      "Epoch 37/100\n",
      "60/60 [==============================] - 0s 260us/sample - loss: 0.1881 - accuracy: 0.9667\n",
      "Epoch 38/100\n",
      "60/60 [==============================] - 0s 260us/sample - loss: 0.1734 - accuracy: 0.9500\n",
      "Epoch 39/100\n",
      "60/60 [==============================] - 0s 260us/sample - loss: 0.1769 - accuracy: 0.9500\n",
      "Epoch 40/100\n",
      "60/60 [==============================] - 0s 260us/sample - loss: 0.1889 - accuracy: 0.9333\n",
      "Epoch 41/100\n",
      "60/60 [==============================] - 0s 260us/sample - loss: 0.1796 - accuracy: 0.9333\n",
      "Epoch 42/100\n",
      "60/60 [==============================] - 0s 260us/sample - loss: 0.1922 - accuracy: 0.9500\n",
      "Epoch 43/100\n",
      "60/60 [==============================] - 0s 260us/sample - loss: 0.1511 - accuracy: 0.9500\n",
      "Epoch 44/100\n",
      "60/60 [==============================] - 0s 260us/sample - loss: 0.1926 - accuracy: 0.9167\n",
      "Epoch 45/100\n",
      "60/60 [==============================] - 0s 260us/sample - loss: 0.1386 - accuracy: 0.9667\n",
      "Epoch 46/100\n",
      "60/60 [==============================] - ETA: 0s - loss: 0.2509 - accuracy: 0.90 - 0s 260us/sample - loss: 0.1640 - accuracy: 0.9500\n",
      "Epoch 47/100\n",
      "60/60 [==============================] - 0s 260us/sample - loss: 0.1326 - accuracy: 0.9500\n",
      "Epoch 48/100\n",
      "60/60 [==============================] - 0s 260us/sample - loss: 0.1351 - accuracy: 0.9667\n",
      "Epoch 49/100\n",
      "60/60 [==============================] - 0s 260us/sample - loss: 0.1255 - accuracy: 0.9667\n",
      "Epoch 50/100\n",
      "60/60 [==============================] - 0s 260us/sample - loss: 0.1310 - accuracy: 0.9667\n",
      "Epoch 51/100\n",
      "60/60 [==============================] - 0s 260us/sample - loss: 0.1229 - accuracy: 0.9667\n",
      "Epoch 52/100\n",
      "60/60 [==============================] - 0s 260us/sample - loss: 0.1264 - accuracy: 0.9500\n",
      "Epoch 53/100\n",
      "60/60 [==============================] - 0s 260us/sample - loss: 0.1193 - accuracy: 0.9833\n",
      "Epoch 54/100\n",
      "60/60 [==============================] - 0s 260us/sample - loss: 0.1526 - accuracy: 0.9500\n",
      "Epoch 55/100\n",
      "60/60 [==============================] - 0s 260us/sample - loss: 0.1244 - accuracy: 0.9500\n",
      "Epoch 56/100\n",
      "60/60 [==============================] - 0s 521us/sample - loss: 0.1251 - accuracy: 0.9667\n",
      "Epoch 57/100\n",
      "60/60 [==============================] - 0s 521us/sample - loss: 0.1232 - accuracy: 0.9667\n",
      "Epoch 58/100\n",
      "60/60 [==============================] - 0s 260us/sample - loss: 0.1213 - accuracy: 0.9667\n",
      "Epoch 59/100\n",
      "60/60 [==============================] - 0s 260us/sample - loss: 0.1138 - accuracy: 0.9667\n",
      "Epoch 60/100\n",
      "60/60 [==============================] - 0s 260us/sample - loss: 0.1141 - accuracy: 0.9667\n",
      "Epoch 61/100\n",
      "60/60 [==============================] - 0s 260us/sample - loss: 0.1085 - accuracy: 0.9667\n",
      "Epoch 62/100\n",
      "60/60 [==============================] - 0s 260us/sample - loss: 0.1138 - accuracy: 0.9667\n",
      "Epoch 63/100\n",
      "60/60 [==============================] - 0s 260us/sample - loss: 0.1320 - accuracy: 0.9500\n",
      "Epoch 64/100\n",
      "60/60 [==============================] - 0s 260us/sample - loss: 0.1342 - accuracy: 0.9500\n",
      "Epoch 65/100\n",
      "60/60 [==============================] - 0s 521us/sample - loss: 0.1111 - accuracy: 0.9667\n",
      "Epoch 66/100\n",
      "60/60 [==============================] - 0s 521us/sample - loss: 0.1070 - accuracy: 0.9833\n",
      "Epoch 67/100\n",
      "60/60 [==============================] - 0s 260us/sample - loss: 0.1049 - accuracy: 0.9667\n",
      "Epoch 68/100\n",
      "60/60 [==============================] - 0s 521us/sample - loss: 0.1115 - accuracy: 0.9667\n",
      "Epoch 69/100\n",
      "60/60 [==============================] - 0s 521us/sample - loss: 0.1016 - accuracy: 0.9667\n",
      "Epoch 70/100\n",
      "60/60 [==============================] - 0s 521us/sample - loss: 0.1122 - accuracy: 0.9667\n",
      "Epoch 71/100\n",
      "60/60 [==============================] - 0s 260us/sample - loss: 0.0984 - accuracy: 0.9667\n",
      "Epoch 72/100\n",
      "60/60 [==============================] - 0s 260us/sample - loss: 0.1085 - accuracy: 0.9667\n",
      "Epoch 73/100\n",
      "60/60 [==============================] - 0s 260us/sample - loss: 0.1085 - accuracy: 0.9667\n",
      "Epoch 74/100\n",
      "60/60 [==============================] - 0s 260us/sample - loss: 0.1052 - accuracy: 0.9667\n",
      "Epoch 75/100\n",
      "60/60 [==============================] - 0s 260us/sample - loss: 0.1250 - accuracy: 0.9667\n",
      "Epoch 76/100\n",
      "60/60 [==============================] - 0s 260us/sample - loss: 0.1053 - accuracy: 0.9500\n",
      "Epoch 77/100\n",
      "60/60 [==============================] - 0s 260us/sample - loss: 0.1010 - accuracy: 0.9667\n",
      "Epoch 78/100\n",
      "60/60 [==============================] - 0s 260us/sample - loss: 0.1185 - accuracy: 0.9500\n",
      "Epoch 79/100\n",
      "60/60 [==============================] - 0s 260us/sample - loss: 0.1078 - accuracy: 0.9667\n",
      "Epoch 80/100\n",
      "60/60 [==============================] - 0s 1ms/sample - loss: 0.1327 - accuracy: 0.9500\n",
      "Epoch 81/100\n",
      "60/60 [==============================] - 0s 781us/sample - loss: 0.0986 - accuracy: 0.9833\n",
      "Epoch 82/100\n",
      "60/60 [==============================] - 0s 260us/sample - loss: 0.1468 - accuracy: 0.9167\n",
      "Epoch 83/100\n",
      "60/60 [==============================] - 0s 260us/sample - loss: 0.0951 - accuracy: 0.9833\n",
      "Epoch 84/100\n",
      "60/60 [==============================] - 0s 521us/sample - loss: 0.1097 - accuracy: 0.9500\n",
      "Epoch 85/100\n",
      "60/60 [==============================] - 0s 261us/sample - loss: 0.1155 - accuracy: 0.9667\n",
      "Epoch 86/100\n",
      "60/60 [==============================] - 0s 521us/sample - loss: 0.0996 - accuracy: 0.9667\n",
      "Epoch 87/100\n",
      "60/60 [==============================] - 0s 260us/sample - loss: 0.1084 - accuracy: 0.9667\n",
      "Epoch 88/100\n",
      "60/60 [==============================] - 0s 260us/sample - loss: 0.1001 - accuracy: 0.9500\n",
      "Epoch 89/100\n",
      "60/60 [==============================] - 0s 521us/sample - loss: 0.0964 - accuracy: 0.9667\n",
      "Epoch 90/100\n",
      "60/60 [==============================] - 0s 260us/sample - loss: 0.0990 - accuracy: 0.9667\n",
      "Epoch 91/100\n",
      "60/60 [==============================] - 0s 260us/sample - loss: 0.0932 - accuracy: 0.9833\n",
      "Epoch 92/100\n",
      "60/60 [==============================] - 0s 260us/sample - loss: 0.0973 - accuracy: 0.9667\n",
      "Epoch 93/100\n",
      "60/60 [==============================] - 0s 260us/sample - loss: 0.1012 - accuracy: 0.9667\n",
      "Epoch 94/100\n",
      "60/60 [==============================] - 0s 260us/sample - loss: 0.1004 - accuracy: 0.9667\n",
      "Epoch 95/100\n",
      "60/60 [==============================] - 0s 260us/sample - loss: 0.1013 - accuracy: 0.9667\n",
      "Epoch 96/100\n",
      "60/60 [==============================] - 0s 260us/sample - loss: 0.1009 - accuracy: 0.9667\n",
      "Epoch 97/100\n",
      "60/60 [==============================] - 0s 260us/sample - loss: 0.0927 - accuracy: 0.9833\n",
      "Epoch 98/100\n",
      "60/60 [==============================] - 0s 260us/sample - loss: 0.1038 - accuracy: 0.9500\n",
      "Epoch 99/100\n",
      "60/60 [==============================] - 0s 260us/sample - loss: 0.0978 - accuracy: 0.9833\n",
      "Epoch 100/100\n",
      "60/60 [==============================] - 0s 521us/sample - loss: 0.0965 - accuracy: 0.9667\n"
     ]
    },
    {
     "data": {
      "text/plain": [
       "<tensorflow.python.keras.callbacks.History at 0x20c68cec9c8>"
      ]
     },
     "execution_count": 17,
     "metadata": {},
     "output_type": "execute_result"
    }
   ],
   "source": [
    "model.fit(train_data, train_labels_hot_encoded, epochs=100)"
   ]
  },
  {
   "cell_type": "code",
   "execution_count": 18,
   "metadata": {},
   "outputs": [
    {
     "name": "stdout",
     "output_type": "stream",
     "text": [
      "90/1 [============================================================================================================================================================================================================================================================================================================================================================================================================================================================================================================================================================================================================================================================================================================================================================================================================================================================================================================================================================================================================================================================================================================================================================================================================================================================================================================================================================================================================================================================================================================================================================================================================================================================================================================================================================================================================================================================================================================================================================================================================================================================================================================================================================================================================================================================================================================================================================================================================================================================================================================================================================================================================================================================================================================================================================================================================] - 1s 11ms/sample - loss: 0.0360 - accuracy: 0.9889\n",
      "test_acc: 0.98888886\n"
     ]
    }
   ],
   "source": [
    "test_loss, test_acc = model.evaluate(test_data,test_labels_hot_encoded)\n",
    "print('test_acc:', test_acc)"
   ]
  },
  {
   "cell_type": "code",
   "execution_count": 19,
   "metadata": {},
   "outputs": [
    {
     "name": "stdout",
     "output_type": "stream",
     "text": [
      "Model: \"sequential\"\n",
      "_________________________________________________________________\n",
      "Layer (type)                 Output Shape              Param #   \n",
      "=================================================================\n",
      "dense (Dense)                (None, 16)                80        \n",
      "_________________________________________________________________\n",
      "dense_1 (Dense)              (None, 8)                 136       \n",
      "_________________________________________________________________\n",
      "dense_2 (Dense)              (None, 3)                 27        \n",
      "=================================================================\n",
      "Total params: 243\n",
      "Trainable params: 243\n",
      "Non-trainable params: 0\n",
      "_________________________________________________________________\n"
     ]
    }
   ],
   "source": [
    "model.summary()"
   ]
  },
  {
   "cell_type": "code",
   "execution_count": null,
   "metadata": {},
   "outputs": [],
   "source": []
  }
 ],
 "metadata": {
  "kernelspec": {
   "display_name": "Python 3",
   "language": "python",
   "name": "python3"
  },
  "language_info": {
   "codemirror_mode": {
    "name": "ipython",
    "version": 3
   },
   "file_extension": ".py",
   "mimetype": "text/x-python",
   "name": "python",
   "nbconvert_exporter": "python",
   "pygments_lexer": "ipython3",
   "version": "3.7.3"
  }
 },
 "nbformat": 4,
 "nbformat_minor": 2
}
