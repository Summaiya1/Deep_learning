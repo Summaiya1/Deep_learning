{
 "cells": [
  {
   "cell_type": "code",
   "execution_count": 1,
   "metadata": {},
   "outputs": [],
   "source": [
    "from sklearn.preprocessing import LabelEncoder\n",
    "from tensorflow import set_random_seed\n",
    "import os\n",
    "import random\n",
    "import numpy as np\n",
    "SEED = 1\n",
    "os.environ['PYTHONHASHSEED']=str(SEED)\n",
    "np.random.seed(SEED)\n",
    "set_random_seed(SEED)\n",
    "random.seed(SEED)"
   ]
  },
  {
   "cell_type": "code",
   "execution_count": 2,
   "metadata": {},
   "outputs": [],
   "source": [
    "\n",
    "import pandas as pd\n",
    "from tensorflow.keras.models import Sequential\n",
    "from tensorflow.keras.layers import Dense\n",
    "from tensorflow.keras.utils import to_categorical\n",
    "from tensorflow.keras import models\n",
    "from tensorflow.keras import layers"
   ]
  },
  {
   "cell_type": "code",
   "execution_count": 3,
   "metadata": {},
   "outputs": [],
   "source": [
    "dataframe = pd.read_csv(\"sonar.csv\", header=None)\n",
    "dataframe = dataframe.sample(frac=1)\n",
    "dataset = dataframe.values"
   ]
  },
  {
   "cell_type": "code",
   "execution_count": 4,
   "metadata": {},
   "outputs": [],
   "source": [
    "train_data = dataset[:175]\n",
    "test_data =dataset[175:]"
   ]
  },
  {
   "cell_type": "code",
   "execution_count": 5,
   "metadata": {},
   "outputs": [],
   "source": [
    "train_X = train_data[:,0:60].astype(float)\n",
    "train_Y = train_data[:,60]"
   ]
  },
  {
   "cell_type": "code",
   "execution_count": 6,
   "metadata": {},
   "outputs": [],
   "source": [
    "test_X = test_data[:,0:60].astype(float)\n",
    "test_Y = test_data[:,60]"
   ]
  },
  {
   "cell_type": "code",
   "execution_count": 7,
   "metadata": {},
   "outputs": [],
   "source": [
    "encoder = LabelEncoder()\n",
    "encoded_train_labels = encoder.fit_transform(train_Y)\n",
    "encoded_test_labels = encoder.fit_transform(test_Y)"
   ]
  },
  {
   "cell_type": "code",
   "execution_count": 8,
   "metadata": {},
   "outputs": [],
   "source": [
    "test_Y_hotencoded = to_categorical(encoded_test_labels)\n",
    "train_Y_hotencoded= to_categorical(encoded_train_labels)"
   ]
  },
  {
   "cell_type": "code",
   "execution_count": 9,
   "metadata": {},
   "outputs": [
    {
     "name": "stdout",
     "output_type": "stream",
     "text": [
      "WARNING:tensorflow:From C:\\Users\\HP i5\\Anaconda3\\lib\\site-packages\\tensorflow\\python\\ops\\init_ops.py:1251: calling VarianceScaling.__init__ (from tensorflow.python.ops.init_ops) with dtype is deprecated and will be removed in a future version.\n",
      "Instructions for updating:\n",
      "Call initializer instance with the dtype argument instead of passing it to the constructor\n"
     ]
    }
   ],
   "source": [
    "model = models.Sequential()\n",
    "model.add(layers.Dense(60, activation='relu', input_shape=(60,)))\n",
    "model.add(layers.Dense(120, activation='relu'))\n",
    "model.add(layers.Dense(2, activation='sigmoid'))"
   ]
  },
  {
   "cell_type": "code",
   "execution_count": 10,
   "metadata": {},
   "outputs": [],
   "source": [
    "from tensorflow.keras.optimizers import Adam"
   ]
  },
  {
   "cell_type": "code",
   "execution_count": 11,
   "metadata": {},
   "outputs": [
    {
     "name": "stdout",
     "output_type": "stream",
     "text": [
      "WARNING:tensorflow:From C:\\Users\\HP i5\\Anaconda3\\lib\\site-packages\\tensorflow\\python\\ops\\nn_impl.py:180: add_dispatch_support.<locals>.wrapper (from tensorflow.python.ops.array_ops) is deprecated and will be removed in a future version.\n",
      "Instructions for updating:\n",
      "Use tf.where in 2.0, which has the same broadcast rule as np.where\n"
     ]
    }
   ],
   "source": [
    "model.compile(optimizer=Adam(lr=0.04),loss='binary_crossentropy',metrics=['accuracy'])"
   ]
  },
  {
   "cell_type": "code",
   "execution_count": 12,
   "metadata": {},
   "outputs": [
    {
     "name": "stdout",
     "output_type": "stream",
     "text": [
      "Epoch 1/100\n",
      "175/175 [==============================] - 1s 3ms/sample - loss: 0.9379 - acc: 0.5457\n",
      "Epoch 2/100\n",
      "175/175 [==============================] - 0s 274us/sample - loss: 0.6823 - acc: 0.5743\n",
      "Epoch 3/100\n",
      "175/175 [==============================] - 0s 297us/sample - loss: 0.7564 - acc: 0.5514\n",
      "Epoch 4/100\n",
      "175/175 [==============================] - 0s 274us/sample - loss: 0.6707 - acc: 0.5743\n",
      "Epoch 5/100\n",
      "175/175 [==============================] - 0s 274us/sample - loss: 0.6063 - acc: 0.7171\n",
      "Epoch 6/100\n",
      "175/175 [==============================] - 0s 297us/sample - loss: 0.5557 - acc: 0.7171\n",
      "Epoch 7/100\n",
      "175/175 [==============================] - 0s 274us/sample - loss: 0.5201 - acc: 0.7143\n",
      "Epoch 8/100\n",
      "175/175 [==============================] - 0s 366us/sample - loss: 0.4976 - acc: 0.7457\n",
      "Epoch 9/100\n",
      "175/175 [==============================] - 0s 289us/sample - loss: 0.4792 - acc: 0.7600\n",
      "Epoch 10/100\n",
      "175/175 [==============================] - 0s 251us/sample - loss: 0.4356 - acc: 0.7857\n",
      "Epoch 11/100\n",
      "175/175 [==============================] - 0s 388us/sample - loss: 0.4132 - acc: 0.8000\n",
      "Epoch 12/100\n",
      "175/175 [==============================] - 0s 389us/sample - loss: 0.4430 - acc: 0.7714\n",
      "Epoch 13/100\n",
      "175/175 [==============================] - 0s 297us/sample - loss: 0.4712 - acc: 0.7600\n",
      "Epoch 14/100\n",
      "175/175 [==============================] - 0s 274us/sample - loss: 0.4006 - acc: 0.8286\n",
      "Epoch 15/100\n",
      "175/175 [==============================] - 0s 274us/sample - loss: 0.3766 - acc: 0.8114\n",
      "Epoch 16/100\n",
      "175/175 [==============================] - 0s 297us/sample - loss: 0.3542 - acc: 0.8314\n",
      "Epoch 17/100\n",
      "175/175 [==============================] - 0s 366us/sample - loss: 0.3579 - acc: 0.8600\n",
      "Epoch 18/100\n",
      "175/175 [==============================] - 0s 411us/sample - loss: 0.4206 - acc: 0.8114\n",
      "Epoch 19/100\n",
      "175/175 [==============================] - 0s 297us/sample - loss: 0.3846 - acc: 0.8314\n",
      "Epoch 20/100\n",
      "175/175 [==============================] - 0s 297us/sample - loss: 0.3701 - acc: 0.8629\n",
      "Epoch 21/100\n",
      "175/175 [==============================] - 0s 297us/sample - loss: 0.4334 - acc: 0.7771\n",
      "Epoch 22/100\n",
      "175/175 [==============================] - 0s 343us/sample - loss: 0.3963 - acc: 0.7714\n",
      "Epoch 23/100\n",
      "175/175 [==============================] - 0s 274us/sample - loss: 0.3750 - acc: 0.8429\n",
      "Epoch 24/100\n",
      "175/175 [==============================] - 0s 320us/sample - loss: 0.3476 - acc: 0.8314\n",
      "Epoch 25/100\n",
      "175/175 [==============================] - 0s 251us/sample - loss: 0.4198 - acc: 0.7886\n",
      "Epoch 26/100\n",
      "175/175 [==============================] - 0s 343us/sample - loss: 0.4340 - acc: 0.7600\n",
      "Epoch 27/100\n",
      "175/175 [==============================] - 0s 297us/sample - loss: 0.3874 - acc: 0.8629\n",
      "Epoch 28/100\n",
      "175/175 [==============================] - 0s 343us/sample - loss: 0.3558 - acc: 0.8086\n",
      "Epoch 29/100\n",
      "175/175 [==============================] - 0s 320us/sample - loss: 0.3666 - acc: 0.8314\n",
      "Epoch 30/100\n",
      "175/175 [==============================] - 0s 411us/sample - loss: 0.3373 - acc: 0.8457\n",
      "Epoch 31/100\n",
      "175/175 [==============================] - 0s 297us/sample - loss: 0.3321 - acc: 0.8343\n",
      "Epoch 32/100\n",
      "175/175 [==============================] - 0s 526us/sample - loss: 0.3572 - acc: 0.8286\n",
      "Epoch 33/100\n",
      "175/175 [==============================] - 0s 343us/sample - loss: 0.3496 - acc: 0.8257\n",
      "Epoch 34/100\n",
      "175/175 [==============================] - 0s 388us/sample - loss: 0.3049 - acc: 0.8600\n",
      "Epoch 35/100\n",
      "175/175 [==============================] - 0s 297us/sample - loss: 0.3063 - acc: 0.8743\n",
      "Epoch 36/100\n",
      "175/175 [==============================] - 0s 320us/sample - loss: 0.2797 - acc: 0.8743\n",
      "Epoch 37/100\n",
      "175/175 [==============================] - 0s 343us/sample - loss: 0.2843 - acc: 0.8686\n",
      "Epoch 38/100\n",
      "175/175 [==============================] - 0s 320us/sample - loss: 0.3032 - acc: 0.8629\n",
      "Epoch 39/100\n",
      "175/175 [==============================] - 0s 251us/sample - loss: 0.3319 - acc: 0.8400\n",
      "Epoch 40/100\n",
      "175/175 [==============================] - 0s 274us/sample - loss: 0.3131 - acc: 0.8400\n",
      "Epoch 41/100\n",
      "175/175 [==============================] - 0s 388us/sample - loss: 0.2546 - acc: 0.8857\n",
      "Epoch 42/100\n",
      "175/175 [==============================] - 0s 206us/sample - loss: 0.2567 - acc: 0.8857\n",
      "Epoch 43/100\n",
      "175/175 [==============================] - 0s 411us/sample - loss: 0.2514 - acc: 0.8914\n",
      "Epoch 44/100\n",
      "175/175 [==============================] - 0s 297us/sample - loss: 0.2467 - acc: 0.8800\n",
      "Epoch 45/100\n",
      "175/175 [==============================] - 0s 548us/sample - loss: 0.2387 - acc: 0.8971\n",
      "Epoch 46/100\n",
      "175/175 [==============================] - 0s 274us/sample - loss: 0.2527 - acc: 0.8914\n",
      "Epoch 47/100\n",
      "175/175 [==============================] - 0s 320us/sample - loss: 0.2348 - acc: 0.8886\n",
      "Epoch 48/100\n",
      "175/175 [==============================] - 0s 189us/sample - loss: 0.2329 - acc: 0.8914\n",
      "Epoch 49/100\n",
      "175/175 [==============================] - 0s 411us/sample - loss: 0.3073 - acc: 0.8486\n",
      "Epoch 50/100\n",
      "175/175 [==============================] - 0s 1ms/sample - loss: 0.2668 - acc: 0.8571\n",
      "Epoch 51/100\n",
      "175/175 [==============================] - 0s 663us/sample - loss: 0.4200 - acc: 0.8486\n",
      "Epoch 52/100\n",
      "175/175 [==============================] - 0s 1ms/sample - loss: 0.3637 - acc: 0.7943\n",
      "Epoch 53/100\n",
      "175/175 [==============================] - 0s 754us/sample - loss: 0.3231 - acc: 0.8229\n",
      "Epoch 54/100\n",
      "175/175 [==============================] - 0s 800us/sample - loss: 0.2698 - acc: 0.8629\n",
      "Epoch 55/100\n",
      "175/175 [==============================] - 0s 548us/sample - loss: 0.2208 - acc: 0.9029\n",
      "Epoch 56/100\n",
      "175/175 [==============================] - 0s 663us/sample - loss: 0.2400 - acc: 0.8771\n",
      "Epoch 57/100\n",
      "175/175 [==============================] - 0s 457us/sample - loss: 0.2722 - acc: 0.8629\n",
      "Epoch 58/100\n",
      "175/175 [==============================] - 0s 457us/sample - loss: 0.2123 - acc: 0.8914\n",
      "Epoch 59/100\n",
      "175/175 [==============================] - 0s 937us/sample - loss: 0.1948 - acc: 0.9143\n",
      "Epoch 60/100\n",
      "175/175 [==============================] - 0s 2ms/sample - loss: 0.1705 - acc: 0.9114\n",
      "Epoch 61/100\n",
      "175/175 [==============================] - 0s 2ms/sample - loss: 0.1702 - acc: 0.9171\n",
      "Epoch 62/100\n",
      "175/175 [==============================] - 0s 2ms/sample - loss: 0.1523 - acc: 0.9486\n",
      "Epoch 63/100\n",
      "175/175 [==============================] - 0s 2ms/sample - loss: 0.1589 - acc: 0.9314\n",
      "Epoch 64/100\n",
      "175/175 [==============================] - 0s 868us/sample - loss: 0.2133 - acc: 0.9086\n",
      "Epoch 65/100\n",
      "175/175 [==============================] - 0s 1ms/sample - loss: 0.1538 - acc: 0.9314\n",
      "Epoch 66/100\n",
      "175/175 [==============================] - 0s 2ms/sample - loss: 0.1797 - acc: 0.9286\n",
      "Epoch 67/100\n",
      "175/175 [==============================] - 0s 1ms/sample - loss: 0.1934 - acc: 0.8971 0s - loss: 0.1814 - acc: 0.906\n",
      "Epoch 68/100\n",
      "175/175 [==============================] - 0s 800us/sample - loss: 0.1321 - acc: 0.9257\n",
      "Epoch 69/100\n",
      "175/175 [==============================] - 0s 823us/sample - loss: 0.1768 - acc: 0.9314\n",
      "Epoch 70/100\n",
      "175/175 [==============================] - 0s 708us/sample - loss: 0.1524 - acc: 0.9314\n",
      "Epoch 71/100\n",
      "175/175 [==============================] - 0s 480us/sample - loss: 0.1338 - acc: 0.9486\n",
      "Epoch 72/100\n",
      "175/175 [==============================] - 0s 1ms/sample - loss: 0.1004 - acc: 0.9600\n",
      "Epoch 73/100\n",
      "175/175 [==============================] - 0s 1ms/sample - loss: 0.0806 - acc: 0.9771\n",
      "Epoch 74/100\n",
      "175/175 [==============================] - 0s 708us/sample - loss: 0.0868 - acc: 0.9657\n",
      "Epoch 75/100\n",
      "175/175 [==============================] - 0s 1ms/sample - loss: 0.0921 - acc: 0.9657\n",
      "Epoch 76/100\n",
      "175/175 [==============================] - 0s 1ms/sample - loss: 0.1375 - acc: 0.9543\n",
      "Epoch 77/100\n",
      "175/175 [==============================] - 0s 2ms/sample - loss: 0.1488 - acc: 0.9400\n",
      "Epoch 78/100\n",
      "175/175 [==============================] - 0s 937us/sample - loss: 0.2701 - acc: 0.8971\n",
      "Epoch 79/100\n",
      "175/175 [==============================] - 0s 937us/sample - loss: 0.2893 - acc: 0.8514\n",
      "Epoch 80/100\n",
      "175/175 [==============================] - 0s 891us/sample - loss: 0.2414 - acc: 0.9029\n",
      "Epoch 81/100\n",
      "175/175 [==============================] - 0s 1ms/sample - loss: 0.1567 - acc: 0.9200\n",
      "Epoch 82/100\n"
     ]
    },
    {
     "name": "stdout",
     "output_type": "stream",
     "text": [
      "175/175 [==============================] - 0s 731us/sample - loss: 0.1880 - acc: 0.9257\n",
      "Epoch 83/100\n",
      "175/175 [==============================] - 0s 343us/sample - loss: 0.2300 - acc: 0.8914\n",
      "Epoch 84/100\n",
      "175/175 [==============================] - 0s 343us/sample - loss: 0.3528 - acc: 0.8543\n",
      "Epoch 85/100\n",
      "175/175 [==============================] - 0s 548us/sample - loss: 0.2683 - acc: 0.8771\n",
      "Epoch 86/100\n",
      "175/175 [==============================] - 0s 366us/sample - loss: 0.2911 - acc: 0.8514\n",
      "Epoch 87/100\n",
      "175/175 [==============================] - 0s 206us/sample - loss: 0.1623 - acc: 0.9371\n",
      "Epoch 88/100\n",
      "175/175 [==============================] - 0s 206us/sample - loss: 0.2685 - acc: 0.8800\n",
      "Epoch 89/100\n",
      "175/175 [==============================] - 0s 229us/sample - loss: 0.1694 - acc: 0.9343\n",
      "Epoch 90/100\n",
      "175/175 [==============================] - 0s 251us/sample - loss: 0.1371 - acc: 0.9343\n",
      "Epoch 91/100\n",
      "175/175 [==============================] - 0s 274us/sample - loss: 0.1249 - acc: 0.9429\n",
      "Epoch 92/100\n",
      "175/175 [==============================] - 0s 206us/sample - loss: 0.0898 - acc: 0.9771\n",
      "Epoch 93/100\n",
      "175/175 [==============================] - 0s 594us/sample - loss: 0.0780 - acc: 0.9829\n",
      "Epoch 94/100\n",
      "175/175 [==============================] - 0s 958us/sample - loss: 0.0692 - acc: 0.9771\n",
      "Epoch 95/100\n",
      "175/175 [==============================] - 0s 777us/sample - loss: 0.0639 - acc: 0.9771s - loss: 0.0658 - acc: 0.976\n",
      "Epoch 96/100\n",
      "175/175 [==============================] - 0s 548us/sample - loss: 0.0538 - acc: 0.9886\n",
      "Epoch 97/100\n",
      "175/175 [==============================] - 0s 343us/sample - loss: 0.0691 - acc: 0.9714\n",
      "Epoch 98/100\n",
      "175/175 [==============================] - 0s 320us/sample - loss: 0.0641 - acc: 0.9771\n",
      "Epoch 99/100\n",
      "175/175 [==============================] - 0s 251us/sample - loss: 0.0692 - acc: 0.9657\n",
      "Epoch 100/100\n",
      "175/175 [==============================] - 0s 343us/sample - loss: 0.1076 - acc: 0.9543\n"
     ]
    },
    {
     "data": {
      "text/plain": [
       "<tensorflow.python.keras.callbacks.History at 0x1c4c8d54828>"
      ]
     },
     "execution_count": 12,
     "metadata": {},
     "output_type": "execute_result"
    }
   ],
   "source": [
    "model.fit(train_X,train_Y_hotencoded, epochs=100)"
   ]
  },
  {
   "cell_type": "code",
   "execution_count": 13,
   "metadata": {},
   "outputs": [
    {
     "name": "stdout",
     "output_type": "stream",
     "text": [
      "33/33 [==============================] - 0s 5ms/sample - loss: 0.3376 - acc: 0.9091\n",
      "test_acc: 0.90909094\n"
     ]
    }
   ],
   "source": [
    "test_loss, test_acc = model.evaluate(test_X,test_Y_hotencoded)\n",
    "print('test_acc:', test_acc)"
   ]
  },
  {
   "cell_type": "code",
   "execution_count": null,
   "metadata": {},
   "outputs": [],
   "source": []
  }
 ],
 "metadata": {
  "kernelspec": {
   "display_name": "Python 3",
   "language": "python",
   "name": "python3"
  },
  "language_info": {
   "codemirror_mode": {
    "name": "ipython",
    "version": 3
   },
   "file_extension": ".py",
   "mimetype": "text/x-python",
   "name": "python",
   "nbconvert_exporter": "python",
   "pygments_lexer": "ipython3",
   "version": "3.7.3"
  }
 },
 "nbformat": 4,
 "nbformat_minor": 2
}
